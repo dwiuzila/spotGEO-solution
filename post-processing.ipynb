{
 "cells": [
  {
   "cell_type": "code",
   "execution_count": 1,
   "metadata": {},
   "outputs": [],
   "source": [
    "import numpy as np\n",
    "import torch\n",
    "import json\n",
    "from sklearn.linear_model import LinearRegression\n",
    "from sklearn.metrics import mean_squared_error\n",
    "from itertools import combinations\n",
    "from tqdm import tqdm"
   ]
  },
  {
   "cell_type": "code",
   "execution_count": 2,
   "metadata": {},
   "outputs": [],
   "source": [
    "dst_mean_thres = 40.71012391942026\n",
    "dst_range_thres = 2.3691151695520034\n",
    "mse_thres = 1.6497723586327953\n",
    "lr = LinearRegression()\n",
    "linear_model = LinearRegression()"
   ]
  },
  {
   "cell_type": "code",
   "execution_count": 3,
   "metadata": {},
   "outputs": [],
   "source": [
    "def distance(p1, p2):\n",
    "    x1, y1 = p1\n",
    "    x2, y2 = p2\n",
    "    d = np.sqrt((x2 - x1)**2 + (y2 - y1)**2)\n",
    "    return d"
   ]
  },
  {
   "cell_type": "code",
   "execution_count": 4,
   "metadata": {},
   "outputs": [],
   "source": [
    "def calcMSE(obj_arr):\n",
    "    x = obj_arr[:,0].reshape(-1, 1)\n",
    "    y_true = obj_arr[:,1]\n",
    "    lr.fit(x, y_true)\n",
    "    y_pred = lr.predict(x)\n",
    "    mse = mean_squared_error(y_true, y_pred)\n",
    "    return mse, lr"
   ]
  },
  {
   "cell_type": "code",
   "execution_count": 5,
   "metadata": {},
   "outputs": [],
   "source": [
    "def cutScore(prediction, score_thres = 0.4):\n",
    "    for pred in prediction:\n",
    "        pred['boxes'] = pred['boxes'][pred['scores'] > score_thres, :]\n",
    "        pred['labels'] = pred['labels'][pred['scores'] > score_thres]\n",
    "        pred['scores'] = pred['scores'][pred['scores'] > score_thres]\n",
    "    return prediction"
   ]
  },
  {
   "cell_type": "code",
   "execution_count": 6,
   "metadata": {},
   "outputs": [],
   "source": [
    "def getCoords(boxes):\n",
    "    object_coords = []\n",
    "    boxes = boxes.cpu().numpy()\n",
    "    box_count = 0\n",
    "    for box in boxes:\n",
    "        coord = [(box[0] + box[2]) / 2 - .5, (box[1] + box[3]) / 2 - .5]\n",
    "        object_coords.append(coord)\n",
    "        box_count = box_count + 1\n",
    "        if box_count == 30:\n",
    "            break\n",
    "    return len(object_coords), object_coords"
   ]
  },
  {
   "cell_type": "code",
   "execution_count": 7,
   "metadata": {},
   "outputs": [],
   "source": [
    "def getIds(i):\n",
    "    sq = i // 5 + 1\n",
    "    fr = (i + 1) - (sq - 1) * 5\n",
    "    return sq, fr"
   ]
  },
  {
   "cell_type": "code",
   "execution_count": 8,
   "metadata": {},
   "outputs": [],
   "source": [
    "def getAllPoints(prediction):\n",
    "    all_points = {}\n",
    "    points = {}\n",
    "    for i in range(len(prediction)):\n",
    "        sq, fr = getIds(i)\n",
    "        _, p = getCoords(prediction[i]['boxes'])\n",
    "        points[fr] = p\n",
    "        if fr == 5:\n",
    "            all_points[sq] = points.copy()\n",
    "            points.clear()\n",
    "    return all_points"
   ]
  },
  {
   "cell_type": "code",
   "execution_count": 9,
   "metadata": {},
   "outputs": [],
   "source": [
    "def getAllScores(prediction):\n",
    "    all_scores = {}\n",
    "    scores = {}\n",
    "    for i in range(len(prediction)):\n",
    "        sq, fr = getIds(i)\n",
    "        scores[fr] = [torch.IntTensor.item(s) for s in prediction[i]['scores']]\n",
    "        if fr == 5:\n",
    "            all_scores[sq] = scores.copy()\n",
    "            scores.clear()\n",
    "    return all_scores"
   ]
  },
  {
   "cell_type": "code",
   "execution_count": 10,
   "metadata": {},
   "outputs": [],
   "source": [
    "def estimatePoint(fr_iter, obj_arr, fr_to_look, linear_model):\n",
    "    linear_model.fit(np.array(fr_iter).reshape(-1,1), obj_arr[:,0].reshape(-1,1))\n",
    "    return linear_model.predict(np.array([fr_to_look]).reshape(-1,1))"
   ]
  },
  {
   "cell_type": "code",
   "execution_count": 11,
   "metadata": {},
   "outputs": [],
   "source": [
    "def isMonotonic(A): \n",
    "    return (all(A[i] <= A[i + 1] for i in range(len(A) - 1)) or\n",
    "            all(A[i] >= A[i + 1] for i in range(len(A) - 1))) "
   ]
  },
  {
   "cell_type": "code",
   "execution_count": 12,
   "metadata": {},
   "outputs": [],
   "source": [
    "def sortDict(d, reverse=False):\n",
    "    d_sorted = {}\n",
    "    for s in sorted(d, reverse=reverse):\n",
    "        d_sorted[s] = d[s]\n",
    "    return d_sorted"
   ]
  },
  {
   "cell_type": "code",
   "execution_count": 13,
   "metadata": {},
   "outputs": [],
   "source": [
    "def sortPointsByScores(val, score):\n",
    "    objects = {}\n",
    "    for fr_iter in combinations(range(1, 6), 3):\n",
    "        fr1, fr2, fr3 = fr_iter\n",
    "        for n1, p1 in enumerate(val[fr1]):\n",
    "            for n2, p2 in enumerate(val[fr2]):\n",
    "                dst1 = distance(p2, p1) / (fr2 - fr1)\n",
    "                if dst1 > dst_mean_thres: continue\n",
    "                for n3, p3 in enumerate(val[fr3]):\n",
    "                    dst2 = distance(p3, p2) / (fr3 - fr2)\n",
    "                    if dst2 > dst_mean_thres: continue\n",
    "                    if np.abs(dst2 - dst1) > dst_range_thres: continue\n",
    "                    obj_arr = np.array([p1, p2, p3])\n",
    "                    x_monotonic = isMonotonic(obj_arr[:,0])\n",
    "                    y_monotonic = isMonotonic(obj_arr[:,1])\n",
    "                    if x_monotonic or y_monotonic:\n",
    "                        s = (score[fr1][n1] + score[fr2][n2] + score[fr3][n3]) / 3.\n",
    "                        objects[s] = {fr1:p1, fr2:p2, fr3:p3}\n",
    "                        objects = sortDict(objects, reverse=True)\n",
    "    return objects"
   ]
  },
  {
   "cell_type": "code",
   "execution_count": 14,
   "metadata": {},
   "outputs": [],
   "source": [
    "def checkPointsBoundary(fr_iter, obj_arr, linear_model):\n",
    "    exist1 = False\n",
    "    exist2 = False\n",
    "    temp = {}\n",
    "    for fr_to_look in range(1, 6):\n",
    "        if fr_to_look not in fr_iter:\n",
    "            x = estimatePoint(fr_iter, obj_arr, fr_to_look, linear_model)\n",
    "            y = lr.predict(x)\n",
    "            temp[fr_to_look] = [x[0][0], y[0]]\n",
    "            if x[0][0] >= -0.5 and x[0][0] <= 639.5 and y[0] >= -0.5 and y[0] <= 479.5:\n",
    "                if exist1 == False:\n",
    "                    exist1 = True\n",
    "                else:\n",
    "                    exist2 = True\n",
    "    return exist1 and exist2, temp"
   ]
  },
  {
   "cell_type": "code",
   "execution_count": 15,
   "metadata": {},
   "outputs": [],
   "source": [
    "def getLinearPoints(points_linear, fr_iter, obj_arr, temp, val, overlap_thres):\n",
    "    fr1, fr2, fr3 = fr_iter\n",
    "    p1, p2, p3 = obj_arr.tolist()\n",
    "    points_linear[fr1].append(p1)\n",
    "    points_linear[fr2].append(p2)\n",
    "    points_linear[fr3].append(p3)\n",
    "    for fr_to_look, new_point in temp.items():\n",
    "        min_dst = overlap_thres\n",
    "        min_p = None\n",
    "        for num, p in enumerate(val[fr_to_look]):\n",
    "            if distance(new_point, p) < min_dst:\n",
    "                min_dst = distance(new_point, p)\n",
    "                min_p = p\n",
    "        if min_p != None:\n",
    "            points_linear[fr_to_look].append(min_p)\n",
    "        else:\n",
    "            points_linear[fr_to_look].append(new_point)"
   ]
  },
  {
   "cell_type": "code",
   "execution_count": 16,
   "metadata": {},
   "outputs": [],
   "source": [
    "def getAllLinearPoints(objects, val, overlap_thres=1.5):\n",
    "    points_linear = {}\n",
    "    for i in range(1, 6):\n",
    "        points_linear[i] = []                \n",
    "    \n",
    "    for objs in objects.values():\n",
    "        fr_iter = objs.keys()\n",
    "        fr1, fr2, fr3 = fr_iter\n",
    "        fr_iter = (fr1, fr2, fr3)\n",
    "        p1, p2, p3 = objs.values()\n",
    "        if p1 in points_linear[fr1]: continue\n",
    "        if p2 in points_linear[fr2]: continue\n",
    "        if p3 in points_linear[fr3]: continue\n",
    "        obj_arr = np.array([p1, p2, p3])\n",
    "        mse, lr = calcMSE(obj_arr)\n",
    "        if mse < mse_thres:\n",
    "            two_other_points_exist, estimation = checkPointsBoundary(fr_iter, obj_arr, linear_model)\n",
    "            if two_other_points_exist:\n",
    "                getLinearPoints(points_linear, fr_iter, obj_arr, estimation, val, overlap_thres)\n",
    "            \n",
    "    return points_linear"
   ]
  },
  {
   "cell_type": "code",
   "execution_count": 17,
   "metadata": {},
   "outputs": [],
   "source": [
    "def assertObjNumPerFrame(all_points_linear):\n",
    "    incomplete_key = []\n",
    "    for key, val in all_points_linear.items():\n",
    "        length = []\n",
    "        for fr in range(1, 6):\n",
    "            length.append(len(val[fr]))\n",
    "        if max(length) - min(length) > 0:\n",
    "            incomplete_key.append(key)\n",
    "    assert(len(incomplete_key) == 0)"
   ]
  },
  {
   "cell_type": "code",
   "execution_count": 18,
   "metadata": {},
   "outputs": [],
   "source": [
    "def makeSubmission(all_points_linear, score_thres):\n",
    "    submission=[]\n",
    "    for sq in all_points_linear.keys():\n",
    "        for fr in range(1, 6):\n",
    "            num = len(all_points_linear[sq][fr])\n",
    "            submission.append({\"sequence_id\" : sq, \n",
    "                               \"frame\" : fr, \n",
    "                               \"num_objects\" : num, \n",
    "                               \"object_coords\" : all_points_linear[sq][fr]})\n",
    "\n",
    "    with open('best_submission/best_submission_clean_{:.2f}-st.json'.format(score_thres), 'w') as outfile:\n",
    "        json.dump(submission, outfile)"
   ]
  },
  {
   "cell_type": "code",
   "execution_count": 19,
   "metadata": {},
   "outputs": [
    {
     "name": "stdout",
     "output_type": "stream",
     "text": [
      "Prediction for 0.10 score threshold on progress...\n"
     ]
    },
    {
     "name": "stderr",
     "output_type": "stream",
     "text": [
      "100%|█████████████████████████████████████████████████████████████████████████████| 5120/5120 [00:31<00:00, 163.95it/s]\n"
     ]
    },
    {
     "name": "stdout",
     "output_type": "stream",
     "text": [
      "Prediction for 0.20 score threshold on progress...\n"
     ]
    },
    {
     "name": "stderr",
     "output_type": "stream",
     "text": [
      "100%|█████████████████████████████████████████████████████████████████████████████| 5120/5120 [00:21<00:00, 239.48it/s]\n"
     ]
    },
    {
     "name": "stdout",
     "output_type": "stream",
     "text": [
      "Prediction for 0.30 score threshold on progress...\n"
     ]
    },
    {
     "name": "stderr",
     "output_type": "stream",
     "text": [
      "100%|█████████████████████████████████████████████████████████████████████████████| 5120/5120 [00:19<00:00, 269.36it/s]\n"
     ]
    },
    {
     "name": "stdout",
     "output_type": "stream",
     "text": [
      "Prediction for 0.40 score threshold on progress...\n"
     ]
    },
    {
     "name": "stderr",
     "output_type": "stream",
     "text": [
      "100%|█████████████████████████████████████████████████████████████████████████████| 5120/5120 [00:17<00:00, 289.50it/s]\n"
     ]
    },
    {
     "name": "stdout",
     "output_type": "stream",
     "text": [
      "Prediction for 0.50 score threshold on progress...\n"
     ]
    },
    {
     "name": "stderr",
     "output_type": "stream",
     "text": [
      "100%|█████████████████████████████████████████████████████████████████████████████| 5120/5120 [00:16<00:00, 307.45it/s]\n"
     ]
    },
    {
     "name": "stdout",
     "output_type": "stream",
     "text": [
      "Prediction for 0.60 score threshold on progress...\n"
     ]
    },
    {
     "name": "stderr",
     "output_type": "stream",
     "text": [
      "100%|█████████████████████████████████████████████████████████████████████████████| 5120/5120 [00:15<00:00, 321.05it/s]\n"
     ]
    },
    {
     "name": "stdout",
     "output_type": "stream",
     "text": [
      "Prediction for 0.70 score threshold on progress...\n"
     ]
    },
    {
     "name": "stderr",
     "output_type": "stream",
     "text": [
      "100%|█████████████████████████████████████████████████████████████████████████████| 5120/5120 [00:15<00:00, 327.26it/s]\n"
     ]
    },
    {
     "name": "stdout",
     "output_type": "stream",
     "text": [
      "Prediction for 0.80 score threshold on progress...\n"
     ]
    },
    {
     "name": "stderr",
     "output_type": "stream",
     "text": [
      "100%|█████████████████████████████████████████████████████████████████████████████| 5120/5120 [00:15<00:00, 335.76it/s]\n"
     ]
    },
    {
     "name": "stdout",
     "output_type": "stream",
     "text": [
      "Prediction for 0.90 score threshold on progress...\n"
     ]
    },
    {
     "name": "stderr",
     "output_type": "stream",
     "text": [
      "100%|█████████████████████████████████████████████████████████████████████████████| 5120/5120 [00:14<00:00, 353.11it/s]\n"
     ]
    },
    {
     "name": "stdout",
     "output_type": "stream",
     "text": [
      "DONE!\n",
      "Wall time: 9min 10s\n"
     ]
    }
   ],
   "source": [
    "%%time\n",
    "for st in np.arange(0.1, 1, 0.1):\n",
    "    print('Prediction for {:.2f} score threshold on progress...'.format(st))\n",
    "    prediction = torch.load('prediction_fasterrcnn-resnet50-fpn_6-epochs.pt')\n",
    "    prediction = cutScore(prediction, score_thres=st)\n",
    "    all_points = getAllPoints(prediction)\n",
    "    all_scores = getAllScores(prediction)\n",
    "\n",
    "    all_points_linear = {}\n",
    "    for key in tqdm(range(1, 5121)):\n",
    "        val = all_points[key]\n",
    "        score = all_scores[key]\n",
    "        objects = sortPointsByScores(val, score)\n",
    "        points_linear = getAllLinearPoints(objects, val, overlap_thres=1.5)\n",
    "        all_points_linear[key] = points_linear\n",
    "\n",
    "    assertObjNumPerFrame(all_points_linear)\n",
    "    makeSubmission(all_points_linear, st)\n",
    "print('DONE!')"
   ]
  }
 ],
 "metadata": {
  "kernelspec": {
   "display_name": "Python 3",
   "language": "python",
   "name": "python3"
  },
  "language_info": {
   "codemirror_mode": {
    "name": "ipython",
    "version": 3
   },
   "file_extension": ".py",
   "mimetype": "text/x-python",
   "name": "python",
   "nbconvert_exporter": "python",
   "pygments_lexer": "ipython3",
   "version": "3.7.7"
  }
 },
 "nbformat": 4,
 "nbformat_minor": 4
}
